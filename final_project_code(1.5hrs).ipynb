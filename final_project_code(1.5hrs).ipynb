{
 "cells": [
  {
   "cell_type": "markdown",
   "metadata": {},
   "source": [
    "# Appendix:"
   ]
  },
  {
   "cell_type": "markdown",
   "metadata": {},
   "source": [
    "New input based on 90 minutes time slot"
   ]
  },
  {
   "cell_type": "code",
   "execution_count": 41,
   "metadata": {},
   "outputs": [],
   "source": [
    "ub = [0,\t0,\t0,\t0,\t1,\t1,\t0,\t1,\t1,\t1,\t1,\t1,\t0,\t0,\t0,\t0,\t1,\t1,\t1,\t1,\t1,\t1,\t1,\t1,\\\n",
    "      0,\t0,\t0,\t0,\t0,\t1,\t0,\t1,\t1,\t1,\t1,\t1,\t0,\t0,\t0,\t0,\t0,\t1,\t1,\t1,\t1,\t1,\t1,\t1,\n",
    "1,\t0,\t0,\t0,\t1,\t1,\t1,\t0,\t0,\t1,\t1,\t1,\t1,\t0,\t0,\t0,\t1,\t1,\t1,\t0,\t0,\t1,\t1,\t1,\n",
    "0,\t0,\t0,\t0,\t0,\t1,\t0,\t0,\t0,\t1,\t1,\t1,\t0,\t0,\t0,\t0,\t0,\t1,\t0,\t0,\t0,\t1,\t1,\t1,\n",
    "0,\t1,\t1,\t0,\t0,\t0,\t0,\t0,\t0,\t1,\t1,\t0,\t0,\t1,\t1,\t0,\t0,\t0,\t0,\t0,\t0,\t1,\t1,\t0,\n",
    "1,\t0,\t0,\t0,\t0,\t0,\t0,\t0,\t0,\t0,\t1,\t1,\t1,\t0,\t0,\t0,\t0,\t0,\t0,\t0,\t0,\t0,\t1,\t1,\n",
    "0,\t0,\t0,\t0,\t0,\t0,\t0,\t0,\t0,\t0,\t0,\t1,\t0,\t0,\t0,\t0,\t0,\t1,\t0,\t0,\t0,\t0,\t0,\t0,\n",
    "1,\t1,\t0,\t0,\t0,\t0,\t0,\t0,\t0,\t0,\t0,\t0,\t1,\t1,\t0,\t0,\t0,\t0,\t0,\t0,\t0,\t0,\t0,\t0,\n",
    "1,\t1,\t0,\t0,\t0,\t0,\t0,\t0,\t0,\t0,\t0,\t0,\t1,\t1,\t0,\t0,\t0,\t0,\t0,\t0,\t0,\t0,\t0,\t0,\n",
    "0,\t0,\t0,\t1,\t0,\t0,\t0,\t0,\t0,\t0,\t0,\t0,\t0,\t0,\t0,\t1,\t0,\t0,\t0,\t0,\t0,\t0,\t0,\t0,\n",
    "0,\t0,\t0,\t0,\t0,\t0,\t1,\t0,\t0,\t0,\t0,\t0,\t1,\t0,\t0,\t0,\t0,\t0,\t1,\t0,\t0,\t0,\t0,\t0,\n",
    "0,\t0,\t0,\t0,\t0,\t0,\t0,\t1,\t1,\t0,\t1,\t0,\t0,\t0,\t0,\t0,\t0,\t0,\t0,\t0,\t0,\t0,\t0,\t0]"
   ]
  },
  {
   "cell_type": "markdown",
   "metadata": {},
   "source": [
    "Construct the model"
   ]
  },
  {
   "cell_type": "code",
   "execution_count": 43,
   "metadata": {},
   "outputs": [],
   "source": [
    "from gurobipy import *\n",
    "m = Model()\n",
    "\n",
    "# Create a list of tuples\n",
    "variables = [(i,j) for i in range(12) for j in range(24)]\n",
    "\n",
    "# Only add variables that can be non-zero\n",
    "# For example, a_(1,1) = 0, then we don't need to add x_(1,1)\n",
    "# into the model since it has to be 0\n",
    "new_ub = []\n",
    "for var in variables:\n",
    "    if(ub[var[0]*24+var[1]] == 1):\n",
    "        new_ub.append(var)\n",
    "v = m.addVars(new_ub, vtype=GRB.BINARY, name='EmployeesStarting')"
   ]
  },
  {
   "cell_type": "markdown",
   "metadata": {},
   "source": [
    "Define some methods"
   ]
  },
  {
   "cell_type": "code",
   "execution_count": 44,
   "metadata": {},
   "outputs": [],
   "source": [
    "# calculate the total working hours for a single tutor\n",
    "# Day shift is 1.5 hours, night shift is 2 hours.\n",
    "def totalHours(tutor):\n",
    "    total = 0\n",
    "    for shift in range(24):\n",
    "        if ub[ 24*(tutor) + shift ] == 1:   # Only check the variables in the model\n",
    "            total += v[tutor,shift]*1.5\n",
    "            if shift+1 % 6 == 0:\n",
    "                total += 0.5*v[tutor,shift]\n",
    "    return total"
   ]
  },
  {
   "cell_type": "code",
   "execution_count": 45,
   "metadata": {},
   "outputs": [],
   "source": [
    "# calculate the total working hours on Monday for a single tutor\n",
    "# Day shift is 1.5 hours, night shift is 2 hours.\n",
    "def totalHours1(tutor):\n",
    "    total = 0\n",
    "    for shift in range(6):\n",
    "        if ub[ 24*(tutor) + shift ] == 1:   # Only check the variables in the model\n",
    "            total += v[tutor,shift]*1.5\n",
    "            if shift==5:\n",
    "                total += 0.5*v[tutor,shift]\n",
    "    return total\n",
    "# calculate the total working hours on Tuesday for a single tutor\n",
    "# Day shift is 1.5 hours, night shift is 2 hours.\n",
    "def totalHours2(tutor):\n",
    "    total = 0\n",
    "    for shift in range(6, 12):\n",
    "        if ub[ 24*(tutor) + shift ] == 1:   # Only check the variables in the model\n",
    "            total += v[tutor,shift]*1.5\n",
    "            if shift==11:\n",
    "                total += 0.5*v[tutor,shift]\n",
    "    return total\n",
    "# calculate the total working hours on Wednesday for a single tutor\n",
    "# Day shift is 1.5 hours, night shift is 2 hours.\n",
    "def totalHours3(tutor):\n",
    "    total = 0\n",
    "    for shift in range(12, 18):\n",
    "        if ub[ 24*(tutor) + shift ] == 1:   # Only check the variables in the model\n",
    "            total += v[tutor,shift]*1.5\n",
    "            if shift==17:\n",
    "                total += 0.5*v[tutor,shift]\n",
    "    return total\n",
    "# calculate the total working hours on Thursday for a single tutor\n",
    "# Day shift is 1.5 hours, night shift is 2 hours.\n",
    "def totalHours4(tutor):\n",
    "    total = 0\n",
    "    for shift in range(18, 24):\n",
    "        if ub[ 24*(tutor) + shift ] == 1:   # Only check the variables in the model\n",
    "            total += v[tutor,shift]*1.5\n",
    "            if shift== 23:\n",
    "                total += 0.5*v[tutor,shift]\n",
    "    return total"
   ]
  },
  {
   "cell_type": "code",
   "execution_count": 46,
   "metadata": {},
   "outputs": [],
   "source": [
    "# calculate the number of tutors worked in every shift\n",
    "def numTutor(shift):           \n",
    "    total = 0\n",
    "    for tutor in range(12):\n",
    "        if ub[tutor*24 + shift] == 1:\n",
    "            total += v[tutor, shift]\n",
    "    return total"
   ]
  },
  {
   "cell_type": "markdown",
   "metadata": {},
   "source": [
    "Adding Constraints into the model"
   ]
  },
  {
   "cell_type": "code",
   "execution_count": 47,
   "metadata": {},
   "outputs": [],
   "source": [
    "for emp in range(12):                # every tutor works no more than 4 hours per week\n",
    "    m.addConstr(totalHours(emp) <= 4)\n",
    "    m.addConstr(totalHours1(emp) <= 3)\n",
    "    m.addConstr(totalHours2(emp) <= 3)\n",
    "    m.addConstr(totalHours3(emp) <= 3)\n",
    "    m.addConstr(totalHours4(emp) <= 3)  \n",
    "for shf in range(24):               # every shift has exactly 1 tutor\n",
    "    m.addConstr(numTutor(shf) == 1)\n",
    "m.update()"
   ]
  },
  {
   "cell_type": "markdown",
   "metadata": {},
   "source": [
    "Objective funtion:"
   ]
  },
  {
   "cell_type": "code",
   "execution_count": 48,
   "metadata": {},
   "outputs": [],
   "source": [
    "# Total working hour is 38\n",
    "# There are 12 tutors\n",
    "# Average working hour is 38/12\n",
    "bar_T = 38/12\n",
    "# Objective funtion\n",
    "# Equivalent to minimize the variance of total working hours\n",
    "var = 0\n",
    "for i in range(12):\n",
    "    var += (totalHours(i) - bar_T)*(totalHours(i) - bar_T)\n",
    "m.setObjective(var, GRB.MINIMIZE)"
   ]
  },
  {
   "cell_type": "code",
   "execution_count": 49,
   "metadata": {},
   "outputs": [
    {
     "name": "stdout",
     "output_type": "stream",
     "text": [
      "Optimize a model with 84 rows, 82 columns and 246 nonzeros\n",
      "Model has 447 quadratic objective terms\n",
      "Variable types: 0 continuous, 82 integer (82 binary)\n",
      "Coefficient statistics:\n",
      "  Matrix range     [1e+00, 2e+00]\n",
      "  Objective range  [1e+01, 1e+01]\n",
      "  QObjective range [5e+00, 9e+00]\n",
      "  Bounds range     [1e+00, 1e+00]\n",
      "  RHS range        [1e+00, 4e+00]\n",
      "Found heuristic solution: objective 0.3333333\n",
      "Presolve removed 41 rows and 10 columns\n",
      "Presolve time: 0.03s\n",
      "Presolved: 379 rows, 408 columns, 1200 nonzeros\n",
      "Variable types: 0 continuous, 408 integer (408 binary)\n",
      "\n",
      "Root relaxation: objective -2.666667e+01, 47 iterations, 0.00 seconds\n",
      "\n",
      "    Nodes    |    Current Node    |     Objective Bounds      |     Work\n",
      " Expl Unexpl |  Obj  Depth IntInf | Incumbent    BestBd   Gap | It/Node Time\n",
      "\n",
      "     0     0  -26.66667    0   18    0.33333  -26.66667  8100%     -    0s\n",
      "     0     0  -19.91667    0   25    0.33333  -19.91667  6075%     -    0s\n",
      "     0     0  -15.41667    0   30    0.33333  -15.41667  4725%     -    0s\n",
      "     0     0  -15.41667    0   32    0.33333  -15.41667  4725%     -    0s\n",
      "     0     0  -15.41667    0   26    0.33333  -15.41667  4725%     -    0s\n",
      "     0     0  -15.41667    0   12    0.33333  -15.41667  4725%     -    0s\n",
      "     0     0  -13.16667    0   18    0.33333  -13.16667  4050%     -    0s\n",
      "     0     0  -13.16667    0   17    0.33333  -13.16667  4050%     -    0s\n",
      "     0     0  -13.16667    0   10    0.33333  -13.16667  4050%     -    0s\n",
      "     0     0  -12.63725    0   22    0.33333  -12.63725  3891%     -    0s\n",
      "     0     0  -12.63725    0   22    0.33333  -12.63725  3891%     -    0s\n",
      "     0     2  -12.63725    0   22    0.33333  -12.63725  3891%     -    0s\n",
      "\n",
      "Cutting planes:\n",
      "  Gomory: 3\n",
      "  Zero half: 8\n",
      "\n",
      "Explored 49 nodes (506 simplex iterations) in 0.24 seconds\n",
      "Thread count was 4 (of 4 available processors)\n",
      "\n",
      "Solution count 1: 0.333333 \n",
      "\n",
      "Optimal solution found (tolerance 1.00e-04)\n",
      "Best objective 3.333333333333e-01, best bound 3.333333333333e-01, gap 0.0000%\n"
     ]
    }
   ],
   "source": [
    "m.optimize()"
   ]
  },
  {
   "cell_type": "code",
   "execution_count": 50,
   "metadata": {},
   "outputs": [
    {
     "name": "stdout",
     "output_type": "stream",
     "text": [
      "x_{0, 16}=1\n",
      "x_{0, 20}=1\n",
      "x_{1, 19}=1\n",
      "x_{1, 21}=1\n",
      "x_{2, 4}=1\n",
      "x_{2, 9}=1\n",
      "x_{3, 5}=1\n",
      "x_{3, 22}=1\n",
      "x_{4, 2}=1\n",
      "x_{4, 14}=1\n",
      "x_{5, 10}=1\n",
      "x_{5, 23}=1\n",
      "x_{6, 11}=1\n",
      "x_{6, 17}=1\n",
      "x_{7, 1}=1\n",
      "x_{7, 13}=1\n",
      "x_{8, 0}=1\n",
      "x_{8, 12}=1\n",
      "x_{9, 3}=1\n",
      "x_{9, 15}=1\n",
      "x_{10, 6}=1\n",
      "x_{10, 18}=1\n",
      "x_{11, 7}=1\n",
      "x_{11, 8}=1\n"
     ]
    }
   ],
   "source": [
    "for var in new_ub:\n",
    "    if v[var].x == 1:\n",
    "        print('x_{%d, %d}=%d' % (var[0],var[1],v[var].x))"
   ]
  },
  {
   "cell_type": "code",
   "execution_count": 51,
   "metadata": {},
   "outputs": [
    {
     "data": {
      "image/png": "[encoded data removed]",
      "text/plain": [
       "<Figure size 640x480 with 1 Axes>"
      ]
     },
     "metadata": {},
     "output_type": "display_data"
    },
    {
     "data": {
      "image/png": "[encoded data removed]",
      "text/plain": [
       "<Figure size 640x480 with 1 Axes>"
      ]
     },
     "metadata": {},
     "output_type": "display_data"
    }
   ],
   "source": [
    "import matplotlib.pyplot as plt; plt.rcdefaults()\n",
    "import matplotlib.pyplot as plt\n",
    "import numpy as np\n",
    "a = [3, 3, 3, 3.5, 3, 3, 4, 3.5, 3, 3, 3, 3]\n",
    "b = [4, 2, 5, 3, 4.5, 3.5, 4.5, 2, 3, 4, 2.5]\n",
    "plt.subplot(2,1,1)\n",
    "objects = list(range(1, 13))\n",
    "y_pos = np.arange(len(objects))\n",
    "performance = [3, 3, 3, 3.5, 3, 3, 4, 3.5, 3, 3, 3, 3]\n",
    "plt.bar(y_pos, performance, align='center', alpha=0.5)\n",
    "plt.xticks(y_pos, objects)\n",
    "plt.ylabel('Number of working hours')\n",
    "plt.xlabel('Tutor_i')\n",
    "plt.title('The total number of working hours for each tutor per week based on our schedule')\n",
    "plt.show()\n",
    "plt.subplot(2,1,2)\n",
    "objects = list(range(1, 12))\n",
    "y_pos = np.arange(len(objects))\n",
    "performance = b\n",
    "plt.bar(y_pos, performance, align='center', alpha=0.5)\n",
    "plt.xticks(y_pos, objects)\n",
    "plt.ylabel('Number of working hours')\n",
    "plt.xlabel('Tutor_i')\n",
    "plt.title('The total number of working hours for each tutor per week based on current schedule')\n",
    "plt.show()"
   ]
  }
 ],
 "metadata": {
  "kernelspec": {
   "display_name": "Python 3",
   "language": "python",
   "name": "python3"
  },
  "language_info": {
   "codemirror_mode": {
    "name": "ipython",
    "version": 3
   },
   "file_extension": ".py",
   "mimetype": "text/x-python",
   "name": "python",
   "nbconvert_exporter": "python",
   "pygments_lexer": "ipython3",
   "version": "3.7.0"
  }
 },
 "nbformat": 4,
 "nbformat_minor": 2
}
